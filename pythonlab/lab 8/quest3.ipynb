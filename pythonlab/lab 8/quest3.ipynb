{
 "cells": [
  {
   "cell_type": "markdown",
   "metadata": {},
   "source": [
    "<!-- Q1. A group of people from different parts of Ranchi visited ‘Universal Studio’, Singapore and they enjoyed various fun events.\n",
    "The first event was ‘Roller Coaster’ for which the ticket price was 44 dollars for male, 38 dollars for females and 21 dollars for kids. They spent a total of 1412 dollars for this event. Second event was ‘4D Max Cinema’ for which ticket prices were 32 dollars, 28 dollars and 15 dollars respectively. They spent 1024 dollars for this event.\n",
    "Finally they had a ‘cable car’ trip for which the ticket prices were 24 dollars, 20 dollars and 10 dollars respectively. They spent 728 dollars for the cable car trip.\n",
    "Determine the number of males, females and kids in the group. (Use numpy) -->\n"
   ]
  },
  {
   "cell_type": "markdown",
   "metadata": {},
   "source": [
    "<!-- Below is for B & D\n",
    "Q1. A group of people from different parts of Ranchi visited ‘Universal Studio’, Singapore and they enjoyed various fun events.\n",
    "The first event was ‘Roller Coaster’ for which the ticket price was 44 dollars for male, 38 dollars for females and 21 dollars for kids. They spent a total of 1412 dollars for this event. Second event was ‘4D Max Cinema’ for which ticket prices were 32 dollars, 28 dollars and 15 dollars respectively. They spent 1024 dollars for this event.\n",
    "Finally they had a ‘cable car’ trip for which the ticket prices were 24 dollars, 20 dollars and 10 dollars respectively. They spent 728 dollars for the cable car trip.\n",
    "Determine the number of males, females and kids in the group. (Use numpy) -->\n"
   ]
  },
  {
   "cell_type": "markdown",
   "metadata": {},
   "source": [
    "<!-- Q1. A group of people from different parts of Ranchi visited ‘Universal Studio’, Singapore and they enjoyed various fun events.\n",
    "The first event was ‘Roller Coaster’ for which the ticket price was 44 dollars for male, 38 dollars for females and 21 dollars for kids. They spent a total of 1412 dollars for this event. Second event was ‘4D Max Cinema’ for which ticket prices were 32 dollars, 28 dollars and 15 dollars respectively. They spent 1024 dollars for this event.\n",
    "Finally they had a ‘cable car’ trip for which the ticket prices were 24 dollars, 20 dollars and 10 dollars respectively. They spent 728 dollars for the cable car trip.\n",
    "Determine the number of males, females and kids in the group. (Use numpy) -->\n"
   ]
  },
  {
   "cell_type": "code",
   "execution_count": 5,
   "metadata": {},
   "outputs": [
    {
     "name": "stdout",
     "output_type": "stream",
     "text": [
      "Number of males: 12\n",
      "Number of females: 9\n",
      "Number of kids: 24\n"
     ]
    }
   ],
   "source": [
    "import numpy as np\n",
    "\n",
    "# Ticket prices for each event\n",
    "roller_coaster_prices = [44, 38, 21]  # [male, female, kid]\n",
    "cinema_prices = [32, 28, 15]          # [male, female, kid]\n",
    "cable_car_prices = [24, 20, 10]       # [male, female, kid]\n",
    "\n",
    "# Total expenditures for each event\n",
    "roller_coaster_total = 1412\n",
    "cinema_total = 1024\n",
    "cable_car_total = 728\n",
    "\n",
    "# Coefficient matrix (ticket prices)\n",
    "A = np.array([roller_coaster_prices, cinema_prices, cable_car_prices])\n",
    "\n",
    "# Total expenses vector\n",
    "B = np.array([roller_coaster_total, cinema_total, cable_car_total])\n",
    "\n",
    "# Solving the system of linear equations Ax = B\n",
    "# x contains the number of males, females, and kids\n",
    "x = np.linalg.solve(A, B)\n",
    "\n",
    "# Display the result\n",
    "males, females, kids = x.astype(int)  # Convert to integers\n",
    "print(f\"Number of males: {males}\")\n",
    "print(f\"Number of females: {females}\")\n",
    "print(f\"Number of kids: {kids}\")\n"
   ]
  }
 ],
 "metadata": {
  "kernelspec": {
   "display_name": "Python 3",
   "language": "python",
   "name": "python3"
  },
  "language_info": {
   "codemirror_mode": {
    "name": "ipython",
    "version": 3
   },
   "file_extension": ".py",
   "mimetype": "text/x-python",
   "name": "python",
   "nbconvert_exporter": "python",
   "pygments_lexer": "ipython3",
   "version": "3.12.4"
  }
 },
 "nbformat": 4,
 "nbformat_minor": 2
}
