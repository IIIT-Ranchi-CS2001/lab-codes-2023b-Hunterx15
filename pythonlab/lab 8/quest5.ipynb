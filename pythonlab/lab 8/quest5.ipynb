{
 "cells": [
  {
   "cell_type": "markdown",
   "metadata": {},
   "source": [
    "<!-- Q3. Define a function Create_Array () that can create an array of flexible size according to the number of arguments passed within the function call. The elements passed in the function should make the diagonal Elements of the array and the rest of the elements can be all zeros\n",
    "For Example, if the function call is Create_Array(1,2,3,4)\n",
    "The function shall return\n",
    "1 0 0 0\n",
    "0 2 0 0\n",
    "0 0 3 0\n",
    "0 0 0 4 -->\n"
   ]
  },
  {
   "cell_type": "markdown",
   "metadata": {},
   "source": [
    "<!-- Q3. Define a function Create_Array () that can create an array of flexible size according to the number of arguments passed within the function call. The elements passed in the function should make the diagonal Elements of the array and the rest of the elements can be all zeros\n",
    "For Example, if the function call is Create_Array(1,2,3,4)\n",
    "The function shall return\n",
    "1 0 0 0\n",
    "0 2 0 0\n",
    "0 0 3 0\n",
    "0 0 0 4 -->\n"
   ]
  },
  {
   "cell_type": "markdown",
   "metadata": {},
   "source": [
    " <!-- Define a function Create_Array () that can create an array of flexible size according to the number of arguments passed within the function call. The elements passed in the function should make the diagonal Elements of the array and the rest of the elements can be all zeros\n",
    "For Example, if the function call is Create_Array(1,2,3,4)\n",
    "The function shall return\n",
    "1 0 0 0\n",
    "0 2 0 0\n",
    "0 0 3 0\n",
    "0 0 0 4 -->\n"
   ]
  },
  {
   "cell_type": "code",
   "execution_count": 1,
   "metadata": {},
   "outputs": [
    {
     "name": "stdout",
     "output_type": "stream",
     "text": [
      "Resultant Array:\n",
      "[[1 0 0 0]\n",
      " [0 2 0 0]\n",
      " [0 0 3 0]\n",
      " [0 0 0 4]]\n"
     ]
    }
   ],
   "source": [
    "import numpy as np\n",
    "\n",
    "def Create_Array(*args):\n",
    "    \"\"\"\n",
    "    Create a square array where the diagonal elements are the arguments passed,\n",
    "    and the rest of the elements are zeros.\n",
    "    \"\"\"\n",
    "    n = len(args)  # Determine the size of the array\n",
    "    array = np.zeros((n, n), dtype=int)  # Create an n x n array filled with zeros\n",
    "    np.fill_diagonal(array, args)  # Fill the diagonal with the arguments\n",
    "    return array\n",
    "\n",
    "# Example usage\n",
    "result = Create_Array(1, 2, 3, 4)\n",
    "print(\"Resultant Array:\")\n",
    "print(result)\n"
   ]
  }
 ],
 "metadata": {
  "kernelspec": {
   "display_name": "Python 3",
   "language": "python",
   "name": "python3"
  },
  "language_info": {
   "codemirror_mode": {
    "name": "ipython",
    "version": 3
   },
   "file_extension": ".py",
   "mimetype": "text/x-python",
   "name": "python",
   "nbconvert_exporter": "python",
   "pygments_lexer": "ipython3",
   "version": "3.12.4"
  }
 },
 "nbformat": 4,
 "nbformat_minor": 2
}
